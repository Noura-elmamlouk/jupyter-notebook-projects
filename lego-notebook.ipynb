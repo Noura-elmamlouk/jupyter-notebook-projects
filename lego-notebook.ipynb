{
 "cells": [
  {
   "cell_type": "code",
   "execution_count": 1,
   "id": "77a1cb9f",
   "metadata": {
    "_cell_guid": "b1076dfc-b9ad-4769-8c92-a6c4dae69d19",
    "_uuid": "8f2839f25d086af736a60e9eeb907d3b93b6e0e5",
    "execution": {
     "iopub.execute_input": "2022-12-07T20:40:50.366718Z",
     "iopub.status.busy": "2022-12-07T20:40:50.365807Z",
     "iopub.status.idle": "2022-12-07T20:40:51.331497Z",
     "shell.execute_reply": "2022-12-07T20:40:51.330338Z"
    },
    "papermill": {
     "duration": 0.977691,
     "end_time": "2022-12-07T20:40:51.334437",
     "exception": false,
     "start_time": "2022-12-07T20:40:50.356746",
     "status": "completed"
    },
    "tags": []
   },
   "outputs": [
    {
     "name": "stdout",
     "output_type": "stream",
     "text": [
      "/kaggle/input/lego-database/inventories.csv\n",
      "/kaggle/input/lego-database/themes.csv\n",
      "/kaggle/input/lego-database/inventory_sets.csv\n",
      "/kaggle/input/lego-database/parts.csv\n",
      "/kaggle/input/lego-database/part_categories.csv\n",
      "/kaggle/input/lego-database/colors.csv\n",
      "/kaggle/input/lego-database/downloads_schema.png\n",
      "/kaggle/input/lego-database/sets.csv\n",
      "/kaggle/input/lego-database/inventory_parts.csv\n"
     ]
    }
   ],
   "source": [
    "# This Python 3 environment comes with many helpful analytics libraries installed\n",
    "# It is defined by the kaggle/python Docker image: https://github.com/kaggle/docker-python\n",
    "# For example, here's several helpful packages to load\n",
    "\n",
    "import numpy as np # linear algebra\n",
    "import pandas as pd # data processing, CSV file I/O (e.g. pd.read_csv)\n",
    "from mpl_toolkits.mplot3d import Axes3D\n",
    "from sklearn.preprocessing import StandardScaler\n",
    "import matplotlib.pyplot as plt # plotting\n",
    "import os # accessing directory structure\n",
    "\n",
    "# Input data files are available in the read-only \"../input/\" directory\n",
    "# For example, running this (by clicking run or pressing Shift+Enter) will list all files under the input directory\n",
    "\n",
    "import os\n",
    "for dirname, _, filenames in os.walk('/kaggle/input'):\n",
    "    for filename in filenames:\n",
    "        print(os.path.join(dirname, filename))\n",
    "\n",
    "# You can write up to 20GB to the current directory (/kaggle/working/) that gets preserved as output when you create a version using \"Save & Run All\" \n",
    "# You can also write temporary files to /kaggle/temp/, but they won't be saved outside of the current session"
   ]
  },
  {
   "cell_type": "code",
   "execution_count": 2,
   "id": "f07837ab",
   "metadata": {
    "execution": {
     "iopub.execute_input": "2022-12-07T20:40:51.344144Z",
     "iopub.status.busy": "2022-12-07T20:40:51.343768Z",
     "iopub.status.idle": "2022-12-07T20:40:51.360411Z",
     "shell.execute_reply": "2022-12-07T20:40:51.359316Z"
    },
    "papermill": {
     "duration": 0.02423,
     "end_time": "2022-12-07T20:40:51.363043",
     "exception": false,
     "start_time": "2022-12-07T20:40:51.338813",
     "status": "completed"
    },
    "tags": []
   },
   "outputs": [],
   "source": [
    "df = pd.read_csv('/kaggle/input/lego-database/colors.csv')"
   ]
  },
  {
   "cell_type": "code",
   "execution_count": 3,
   "id": "0f41c399",
   "metadata": {
    "execution": {
     "iopub.execute_input": "2022-12-07T20:40:51.372345Z",
     "iopub.status.busy": "2022-12-07T20:40:51.371638Z",
     "iopub.status.idle": "2022-12-07T20:40:51.377515Z",
     "shell.execute_reply": "2022-12-07T20:40:51.376371Z"
    },
    "papermill": {
     "duration": 0.012692,
     "end_time": "2022-12-07T20:40:51.379808",
     "exception": false,
     "start_time": "2022-12-07T20:40:51.367116",
     "status": "completed"
    },
    "tags": []
   },
   "outputs": [],
   "source": [
    "from mpl_toolkits.mplot3d import Axes3D\n",
    "from sklearn.preprocessing import StandardScaler\n",
    "import matplotlib.pyplot as plt # plotting\n",
    "import numpy as np # linear algebra\n",
    "import os # accessing directory structure\n",
    "import pandas as pd # data processing, CSV file I/O (e.g. pd.read_csv)"
   ]
  },
  {
   "cell_type": "code",
   "execution_count": 4,
   "id": "f63b2fac",
   "metadata": {
    "execution": {
     "iopub.execute_input": "2022-12-07T20:40:51.388368Z",
     "iopub.status.busy": "2022-12-07T20:40:51.388030Z",
     "iopub.status.idle": "2022-12-07T20:40:51.398187Z",
     "shell.execute_reply": "2022-12-07T20:40:51.396960Z"
    },
    "papermill": {
     "duration": 0.017006,
     "end_time": "2022-12-07T20:40:51.400512",
     "exception": false,
     "start_time": "2022-12-07T20:40:51.383506",
     "status": "completed"
    },
    "tags": []
   },
   "outputs": [],
   "source": [
    "# Distribution graphs (histogram/bar graph) of column data\n",
    "def plotPerColumnDistribution(df, nGraphShown, nGraphPerRow):\n",
    "    nunique = df.nunique()\n",
    "    df = df[[col for col in df if nunique[col] > 1 and nunique[col] < 50]] # For displaying purposes, pick columns that have between 1 and 50 unique values\n",
    "    nRow, nCol = df.shape\n",
    "    columnNames = list(df)\n",
    "    plt.figure(num = None, figsize = (6 * nGraphPerRow, 8 * nGraphPerRow), dpi = 80, facecolor = 'red', edgecolor = 'green')\n",
    "    for i in range(min(nCol, nGraphShown)):\n",
    "        plt.subplot(nGraphPerRow, nGraphPerRow, i + 1)\n",
    "        columnDf = df.iloc[:, i]\n",
    "        if (not np.issubdtype(type(columnDf.iloc[0]), np.number)):\n",
    "            valueCounts = columnDf.value_counts()\n",
    "            valueCounts.plot.bar()\n",
    "        else:\n",
    "            columnDf.hist()\n",
    "        plt.ylabel('counts')\n",
    "        plt.xticks(rotation = 90)\n",
    "        plt.title(f'{columnNames[i]} (column {i})')\n",
    "    plt.tight_layout(pad = 1.0, w_pad = 1.0, h_pad = 1.0)\n",
    "    plt.show()"
   ]
  },
  {
   "cell_type": "code",
   "execution_count": 5,
   "id": "7a9e61d3",
   "metadata": {
    "execution": {
     "iopub.execute_input": "2022-12-07T20:40:51.409707Z",
     "iopub.status.busy": "2022-12-07T20:40:51.409376Z",
     "iopub.status.idle": "2022-12-07T20:40:51.418428Z",
     "shell.execute_reply": "2022-12-07T20:40:51.417308Z"
    },
    "papermill": {
     "duration": 0.015697,
     "end_time": "2022-12-07T20:40:51.420491",
     "exception": false,
     "start_time": "2022-12-07T20:40:51.404794",
     "status": "completed"
    },
    "tags": []
   },
   "outputs": [],
   "source": [
    "# Correlation matrix\n",
    "def plotCorrelationMatrix(df, graphWidth):\n",
    "    filename = df.dataframeName\n",
    "    df = df.dropna('columns') # drop columns with NaN\n",
    "    df = df[[col for col in df if df[col].nunique() > 1]] # keep columns where there are more than 1 unique values\n",
    "    if df.shape[1] < 2:\n",
    "        print(f'No correlation plots shown: The number of non-NaN or constant columns ({df.shape[1]}) is less than 2')\n",
    "        return\n",
    "    corr = df.corr()\n",
    "    plt.figure(num=None, figsize=(graphWidth, graphWidth), dpi=80, facecolor='w', edgecolor='k')\n",
    "    corrMat = plt.matshow(corr, fignum = 1)\n",
    "    plt.xticks(range(len(corr.columns)), corr.columns, rotation=90)\n",
    "    plt.yticks(range(len(corr.columns)), corr.columns)\n",
    "    plt.gca().xaxis.tick_bottom()\n",
    "    plt.colorbar(corrMat)\n",
    "    plt.title(f'Correlation Matrix for {filename}', fontsize=15)\n",
    "    plt.show()\n"
   ]
  },
  {
   "cell_type": "code",
   "execution_count": 6,
   "id": "c0e143db",
   "metadata": {
    "execution": {
     "iopub.execute_input": "2022-12-07T20:40:51.428855Z",
     "iopub.status.busy": "2022-12-07T20:40:51.428479Z",
     "iopub.status.idle": "2022-12-07T20:40:51.437898Z",
     "shell.execute_reply": "2022-12-07T20:40:51.436722Z"
    },
    "papermill": {
     "duration": 0.015805,
     "end_time": "2022-12-07T20:40:51.439875",
     "exception": false,
     "start_time": "2022-12-07T20:40:51.424070",
     "status": "completed"
    },
    "tags": []
   },
   "outputs": [],
   "source": [
    "# Scatter and density plots\n",
    "def plotScatterMatrix(df, plotSize, textSize):\n",
    "    df = df.select_dtypes(include =[np.number]) # keep only numerical columns\n",
    "    # Remove rows and columns that would lead to df being singular\n",
    "    df = df.dropna('columns')\n",
    "    df = df[[col for col in df if df[col].nunique() > 1]] # keep columns where there are more than 1 unique values\n",
    "    columnNames = list(df)\n",
    "    if len(columnNames) > 10: # reduce the number of columns for matrix inversion of kernel density plots\n",
    "        columnNames = columnNames[:10]\n",
    "    df = df[columnNames]\n",
    "    ax = pd.plotting.scatter_matrix(df, alpha=0.75, figsize=[plotSize, plotSize], diagonal='kde')\n",
    "    corrs = df.corr().values\n",
    "    for i, j in zip(*plt.np.triu_indices_from(ax, k = 1)):\n",
    "        ax[i, j].annotate('Corr. coef = %.3f' % corrs[i, j], (0.8, 0.2), xycoords='axes fraction', ha='center', va='center', size=textSize)\n",
    "    plt.suptitle('Scatter and Density Plot')\n",
    "    plt.show()\n"
   ]
  },
  {
   "cell_type": "code",
   "execution_count": 7,
   "id": "2d11c025",
   "metadata": {
    "execution": {
     "iopub.execute_input": "2022-12-07T20:40:51.448309Z",
     "iopub.status.busy": "2022-12-07T20:40:51.447954Z",
     "iopub.status.idle": "2022-12-07T20:40:51.458516Z",
     "shell.execute_reply": "2022-12-07T20:40:51.456889Z"
    },
    "papermill": {
     "duration": 0.01831,
     "end_time": "2022-12-07T20:40:51.461817",
     "exception": false,
     "start_time": "2022-12-07T20:40:51.443507",
     "status": "completed"
    },
    "tags": []
   },
   "outputs": [
    {
     "name": "stdout",
     "output_type": "stream",
     "text": [
      "There are 135 rows and 4 columns\n"
     ]
    }
   ],
   "source": [
    "nRowsRead = 1000 # specify 'None' if want to read whole file\n",
    "df1 = pd.read_csv('/kaggle/input/lego-database/colors.csv', delimiter=',', nrows = nRowsRead)\n",
    "df1.dataframeName = 'colors.csv'\n",
    "nRow, nCol = df1.shape\n",
    "print(f'There are {nRow} rows and {nCol} columns')"
   ]
  },
  {
   "cell_type": "code",
   "execution_count": 8,
   "id": "8c56d4cb",
   "metadata": {
    "execution": {
     "iopub.execute_input": "2022-12-07T20:40:51.471163Z",
     "iopub.status.busy": "2022-12-07T20:40:51.470378Z",
     "iopub.status.idle": "2022-12-07T20:40:51.488867Z",
     "shell.execute_reply": "2022-12-07T20:40:51.488031Z"
    },
    "papermill": {
     "duration": 0.025595,
     "end_time": "2022-12-07T20:40:51.491220",
     "exception": false,
     "start_time": "2022-12-07T20:40:51.465625",
     "status": "completed"
    },
    "tags": []
   },
   "outputs": [
    {
     "data": {
      "text/html": [
       "<div>\n",
       "<style scoped>\n",
       "    .dataframe tbody tr th:only-of-type {\n",
       "        vertical-align: middle;\n",
       "    }\n",
       "\n",
       "    .dataframe tbody tr th {\n",
       "        vertical-align: top;\n",
       "    }\n",
       "\n",
       "    .dataframe thead th {\n",
       "        text-align: right;\n",
       "    }\n",
       "</style>\n",
       "<table border=\"1\" class=\"dataframe\">\n",
       "  <thead>\n",
       "    <tr style=\"text-align: right;\">\n",
       "      <th></th>\n",
       "      <th>id</th>\n",
       "      <th>name</th>\n",
       "      <th>rgb</th>\n",
       "      <th>is_trans</th>\n",
       "    </tr>\n",
       "  </thead>\n",
       "  <tbody>\n",
       "    <tr>\n",
       "      <th>0</th>\n",
       "      <td>-1</td>\n",
       "      <td>Unknown</td>\n",
       "      <td>0033B2</td>\n",
       "      <td>f</td>\n",
       "    </tr>\n",
       "    <tr>\n",
       "      <th>1</th>\n",
       "      <td>0</td>\n",
       "      <td>Black</td>\n",
       "      <td>05131D</td>\n",
       "      <td>f</td>\n",
       "    </tr>\n",
       "    <tr>\n",
       "      <th>2</th>\n",
       "      <td>1</td>\n",
       "      <td>Blue</td>\n",
       "      <td>0055BF</td>\n",
       "      <td>f</td>\n",
       "    </tr>\n",
       "    <tr>\n",
       "      <th>3</th>\n",
       "      <td>2</td>\n",
       "      <td>Green</td>\n",
       "      <td>237841</td>\n",
       "      <td>f</td>\n",
       "    </tr>\n",
       "    <tr>\n",
       "      <th>4</th>\n",
       "      <td>3</td>\n",
       "      <td>Dark Turquoise</td>\n",
       "      <td>008F9B</td>\n",
       "      <td>f</td>\n",
       "    </tr>\n",
       "  </tbody>\n",
       "</table>\n",
       "</div>"
      ],
      "text/plain": [
       "   id            name     rgb is_trans\n",
       "0  -1         Unknown  0033B2        f\n",
       "1   0           Black  05131D        f\n",
       "2   1            Blue  0055BF        f\n",
       "3   2           Green  237841        f\n",
       "4   3  Dark Turquoise  008F9B        f"
      ]
     },
     "execution_count": 8,
     "metadata": {},
     "output_type": "execute_result"
    }
   ],
   "source": [
    "df1.head(5)"
   ]
  },
  {
   "cell_type": "code",
   "execution_count": 9,
   "id": "da05622c",
   "metadata": {
    "execution": {
     "iopub.execute_input": "2022-12-07T20:40:51.500893Z",
     "iopub.status.busy": "2022-12-07T20:40:51.500119Z",
     "iopub.status.idle": "2022-12-07T20:40:51.725891Z",
     "shell.execute_reply": "2022-12-07T20:40:51.724714Z"
    },
    "papermill": {
     "duration": 0.23342,
     "end_time": "2022-12-07T20:40:51.728570",
     "exception": false,
     "start_time": "2022-12-07T20:40:51.495150",
     "status": "completed"
    },
    "tags": []
   },
   "outputs": [
    {
     "data": {
      "image/png": "[encoded data removed]",
      "text/plain": [
       "<Figure size 2400x3200 with 1 Axes>"
      ]
     },
     "metadata": {},
     "output_type": "display_data"
    }
   ],
   "source": [
    "plotPerColumnDistribution(df1, 10, 5)"
   ]
  },
  {
   "cell_type": "code",
   "execution_count": 10,
   "id": "ee1424d6",
   "metadata": {
    "execution": {
     "iopub.execute_input": "2022-12-07T20:40:51.738153Z",
     "iopub.status.busy": "2022-12-07T20:40:51.737763Z",
     "iopub.status.idle": "2022-12-07T20:40:52.002889Z",
     "shell.execute_reply": "2022-12-07T20:40:52.001414Z"
    },
    "papermill": {
     "duration": 0.27267,
     "end_time": "2022-12-07T20:40:52.005405",
     "exception": false,
     "start_time": "2022-12-07T20:40:51.732735",
     "status": "completed"
    },
    "tags": []
   },
   "outputs": [
    {
     "name": "stderr",
     "output_type": "stream",
     "text": [
      "/opt/conda/lib/python3.7/site-packages/ipykernel_launcher.py:4: FutureWarning: In a future version of pandas all arguments of DataFrame.dropna will be keyword-only\n",
      "  after removing the cwd from sys.path.\n"
     ]
    },
    {
     "data": {
      "image/png": "[encoded data removed]",
      "text/plain": [
       "<Figure size 640x640 with 2 Axes>"
      ]
     },
     "metadata": {},
     "output_type": "display_data"
    }
   ],
   "source": [
    "plotCorrelationMatrix(df1, 8)"
   ]
  },
  {
   "cell_type": "code",
   "execution_count": 11,
   "id": "5d0b7e14",
   "metadata": {
    "execution": {
     "iopub.execute_input": "2022-12-07T20:40:52.015757Z",
     "iopub.status.busy": "2022-12-07T20:40:52.015355Z",
     "iopub.status.idle": "2022-12-07T20:40:52.178074Z",
     "shell.execute_reply": "2022-12-07T20:40:52.176460Z"
    },
    "papermill": {
     "duration": 0.171098,
     "end_time": "2022-12-07T20:40:52.181060",
     "exception": false,
     "start_time": "2022-12-07T20:40:52.009962",
     "status": "completed"
    },
    "tags": []
   },
   "outputs": [
    {
     "name": "stderr",
     "output_type": "stream",
     "text": [
      "/opt/conda/lib/python3.7/site-packages/ipykernel_launcher.py:5: FutureWarning: In a future version of pandas all arguments of DataFrame.dropna will be keyword-only\n",
      "  \"\"\"\n"
     ]
    },
    {
     "data": {
      "image/png": "[encoded data removed]",
      "text/plain": [
       "<Figure size 432x432 with 1 Axes>"
      ]
     },
     "metadata": {
      "needs_background": "light"
     },
     "output_type": "display_data"
    }
   ],
   "source": [
    "plotScatterMatrix(df1, 6, 15)"
   ]
  }
 ],
 "metadata": {
  "kernelspec": {
   "display_name": "Python 3",
   "language": "python",
   "name": "python3"
  },
  "language_info": {
   "codemirror_mode": {
    "name": "ipython",
    "version": 3
   },
   "file_extension": ".py",
   "mimetype": "text/x-python",
   "name": "python",
   "nbconvert_exporter": "python",
   "pygments_lexer": "ipython3",
   "version": "3.7.12"
  },
  "papermill": {
   "default_parameters": {},
   "duration": 11.875104,
   "end_time": "2022-12-07T20:40:52.906159",
   "environment_variables": {},
   "exception": null,
   "input_path": "__notebook__.ipynb",
   "output_path": "__notebook__.ipynb",
   "parameters": {},
   "start_time": "2022-12-07T20:40:41.031055",
   "version": "2.3.4"
  }
 },
 "nbformat": 4,
 "nbformat_minor": 5
}
